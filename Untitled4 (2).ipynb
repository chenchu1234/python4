{
  "nbformat": 4,
  "nbformat_minor": 0,
  "metadata": {
    "colab": {
      "provenance": []
    },
    "kernelspec": {
      "name": "python3",
      "display_name": "Python 3"
    },
    "language_info": {
      "name": "python"
    }
  },
  "cells": [
    {
      "cell_type": "code",
      "source": [
        "name='chenchu krishna'\n",
        "print(name)"
      ],
      "metadata": {
        "colab": {
          "base_uri": "https://localhost:8080/"
        },
        "id": "gM8fsDDN9PYu",
        "outputId": "44eab980-a6ae-425b-d531-ce8c251b95b0"
      },
      "execution_count": 9,
      "outputs": [
        {
          "output_type": "stream",
          "name": "stdout",
          "text": [
            "chenchu krishna\n"
          ]
        }
      ]
    },
    {
      "cell_type": "code",
      "source": [
        "len(name)"
      ],
      "metadata": {
        "colab": {
          "base_uri": "https://localhost:8080/"
        },
        "id": "4PJTABM_9-Fx",
        "outputId": "6ade61f8-092d-4a2f-b432-2e47051e06bd"
      },
      "execution_count": 10,
      "outputs": [
        {
          "output_type": "execute_result",
          "data": {
            "text/plain": [
              "15"
            ]
          },
          "metadata": {},
          "execution_count": 10
        }
      ]
    },
    {
      "cell_type": "code",
      "source": [
        "name.lower()"
      ],
      "metadata": {
        "colab": {
          "base_uri": "https://localhost:8080/",
          "height": 35
        },
        "id": "6cZdKG6_-Gv7",
        "outputId": "4d68d261-d8a7-4c66-9b2b-53a8a061bdab"
      },
      "execution_count": 12,
      "outputs": [
        {
          "output_type": "execute_result",
          "data": {
            "text/plain": [
              "'chenchu krishna'"
            ],
            "application/vnd.google.colaboratory.intrinsic+json": {
              "type": "string"
            }
          },
          "metadata": {},
          "execution_count": 12
        }
      ]
    },
    {
      "cell_type": "code",
      "source": [
        "name.upper()"
      ],
      "metadata": {
        "colab": {
          "base_uri": "https://localhost:8080/",
          "height": 35
        },
        "id": "YsA3US-G-egi",
        "outputId": "accfec7b-92f6-4ef9-df38-0586fcd8aec7"
      },
      "execution_count": 13,
      "outputs": [
        {
          "output_type": "execute_result",
          "data": {
            "text/plain": [
              "'CHENCHU KRISHNA'"
            ],
            "application/vnd.google.colaboratory.intrinsic+json": {
              "type": "string"
            }
          },
          "metadata": {},
          "execution_count": 13
        }
      ]
    },
    {
      "cell_type": "code",
      "source": [
        "name.replace(' ', '*')"
      ],
      "metadata": {
        "colab": {
          "base_uri": "https://localhost:8080/",
          "height": 35
        },
        "id": "zpF8mc7M-YhG",
        "outputId": "90288405-01a2-4e0b-a8bb-efa46aa55fbb"
      },
      "execution_count": 16,
      "outputs": [
        {
          "output_type": "execute_result",
          "data": {
            "text/plain": [
              "'chenchu*krishna'"
            ],
            "application/vnd.google.colaboratory.intrinsic+json": {
              "type": "string"
            }
          },
          "metadata": {},
          "execution_count": 16
        }
      ]
    },
    {
      "cell_type": "code",
      "source": [
        "name.find('a')\n",
        ""
      ],
      "metadata": {
        "colab": {
          "base_uri": "https://localhost:8080/"
        },
        "id": "a5jg152P-kOQ",
        "outputId": "64553a45-5190-4806-f5e0-7ebeb98333b9"
      },
      "execution_count": 22,
      "outputs": [
        {
          "output_type": "execute_result",
          "data": {
            "text/plain": [
              "14"
            ]
          },
          "metadata": {},
          "execution_count": 22
        }
      ]
    },
    {
      "cell_type": "code",
      "source": [
        "name.count('a')"
      ],
      "metadata": {
        "colab": {
          "base_uri": "https://localhost:8080/"
        },
        "id": "_NJKgSav_ZW9",
        "outputId": "4695db12-b287-4e68-803f-60d8b2c83e3c"
      },
      "execution_count": 23,
      "outputs": [
        {
          "output_type": "execute_result",
          "data": {
            "text/plain": [
              "1"
            ]
          },
          "metadata": {},
          "execution_count": 23
        }
      ]
    },
    {
      "cell_type": "code",
      "source": [],
      "metadata": {
        "id": "E2DRV_pD_I4Y"
      },
      "execution_count": null,
      "outputs": []
    },
    {
      "cell_type": "markdown",
      "source": [
        "#Problem 1\n",
        "#You are given a sentence which reads \"Wikipedia is a free online encyclopedia, created and edited by volunteers around the world and hosted by the Wikimedia Foundation.\"\n",
        "\n",
        "#Find the number of words in the given sentence."
      ],
      "metadata": {
        "id": "rgqfN7hWAQH_"
      }
    },
    {
      "cell_type": "code",
      "source": [
        "sentence='Wikipedia is a free online encyclopedia, created and edited by volunteers around the world and hosted by the Wikimedia Foundation.'\n"
      ],
      "metadata": {
        "id": "AiUfLRQRAUlS"
      },
      "execution_count": 26,
      "outputs": []
    },
    {
      "cell_type": "code",
      "source": [
        "num_of_words=len(sentence.split())\n",
        "print(num_of_words)"
      ],
      "metadata": {
        "colab": {
          "base_uri": "https://localhost:8080/"
        },
        "id": "UOutYcSrBT4u",
        "outputId": "63347bac-8577-493f-bbc2-ad1f61da1990"
      },
      "execution_count": 25,
      "outputs": [
        {
          "output_type": "stream",
          "name": "stdout",
          "text": [
            "20\n"
          ]
        }
      ]
    },
    {
      "cell_type": "code",
      "source": [
        "len(sentence)"
      ],
      "metadata": {
        "colab": {
          "base_uri": "https://localhost:8080/"
        },
        "id": "pRgY8WiqBXwy",
        "outputId": "52bc68ad-b795-4f5f-f3c2-289614f97fb9"
      },
      "execution_count": 28,
      "outputs": [
        {
          "output_type": "execute_result",
          "data": {
            "text/plain": [
              "130"
            ]
          },
          "metadata": {},
          "execution_count": 28
        }
      ]
    },
    {
      "cell_type": "markdown",
      "source": [
        "#Problem 2\n",
        "#Write a Python code which takes a number and returns a corresponding string of hyphens. For example if the number is 3, it will return '---' , if the number is 5 it will return '-----'"
      ],
      "metadata": {
        "id": "u7zrqn-HB-Zf"
      }
    },
    {
      "cell_type": "code",
      "source": [
        "inputted_number = int(input())"
      ],
      "metadata": {
        "colab": {
          "base_uri": "https://localhost:8080/"
        },
        "id": "nTIp-oD2Dc5v",
        "outputId": "4727dd83-984d-4d20-b3f0-a44b99524de8"
      },
      "execution_count": 40,
      "outputs": [
        {
          "output_type": "stream",
          "name": "stdout",
          "text": [
            "5\n",
            "-----\n"
          ]
        }
      ]
    },
    {
      "cell_type": "code",
      "source": [
        "string_of_hyphens = inputted_number * '-'\n",
        "print(string_of_hyphens)"
      ],
      "metadata": {
        "colab": {
          "base_uri": "https://localhost:8080/"
        },
        "id": "jhJCgkalDmxE",
        "outputId": "01d88871-e690-4209-babf-583e0f6ebf23"
      },
      "execution_count": 41,
      "outputs": [
        {
          "output_type": "stream",
          "name": "stdout",
          "text": [
            "-----\n"
          ]
        }
      ]
    },
    {
      "cell_type": "code",
      "source": [],
      "metadata": {
        "id": "jwofPszLDygS"
      },
      "execution_count": null,
      "outputs": []
    },
    {
      "cell_type": "markdown",
      "source": [
        "#Problem 3\n",
        "#A string can be called a safe bridge if it has no gaps in it i.e, no spaces. You are supposed to take an input from the user and print whether the string is a safe bridge or not."
      ],
      "metadata": {
        "id": "e99WRjCfEDbl"
      }
    },
    {
      "cell_type": "code",
      "source": [
        "bridge_input = input()"
      ],
      "metadata": {
        "colab": {
          "base_uri": "https://localhost:8080/"
        },
        "id": "K-zERvm5EHL_",
        "outputId": "cbb80767-8af1-477c-bd9a-18db7d09f910"
      },
      "execution_count": 48,
      "outputs": [
        {
          "name": "stdout",
          "output_type": "stream",
          "text": [
            "iron\n"
          ]
        }
      ]
    },
    {
      "cell_type": "code",
      "source": [
        "is_safe_bridge = bridge_input.find(' ') == -1\n",
        "print(is_safe_bridge)"
      ],
      "metadata": {
        "colab": {
          "base_uri": "https://localhost:8080/"
        },
        "id": "ZHnExMaUEmIp",
        "outputId": "dce1c918-a6c6-4a50-96f5-2d1147f98b2a"
      },
      "execution_count": 49,
      "outputs": [
        {
          "output_type": "stream",
          "name": "stdout",
          "text": [
            "True\n"
          ]
        }
      ]
    },
    {
      "cell_type": "code",
      "source": [
        "print(f\"It is {is_safe_bridge} that the bridge is a safe bridge\")"
      ],
      "metadata": {
        "colab": {
          "base_uri": "https://localhost:8080/"
        },
        "id": "6IsaHbnAF2rO",
        "outputId": "6eef44e3-956c-493e-e79b-c7303ee7e8b5"
      },
      "execution_count": 51,
      "outputs": [
        {
          "output_type": "stream",
          "name": "stdout",
          "text": [
            "It is True that the bridge is a safe bridge\n"
          ]
        }
      ]
    },
    {
      "cell_type": "code",
      "source": [],
      "metadata": {
        "id": "fDPuJNgmGQNo"
      },
      "execution_count": null,
      "outputs": []
    },
    {
      "cell_type": "markdown",
      "source": [
        "#Problem 4\n",
        "#Count the number of D's in a string inputted by the user. This will be case insensitive."
      ],
      "metadata": {
        "id": "vo_uYCV8GWQO"
      }
    },
    {
      "cell_type": "code",
      "source": [
        "inputted_number=input()"
      ],
      "metadata": {
        "colab": {
          "base_uri": "https://localhost:8080/"
        },
        "id": "eKOiCXzQGZJt",
        "outputId": "f88aab90-9253-468f-d117-f12846d08cf5"
      },
      "execution_count": 56,
      "outputs": [
        {
          "name": "stdout",
          "output_type": "stream",
          "text": [
            "4\n"
          ]
        }
      ]
    },
    {
      "cell_type": "code",
      "source": [
        "user_string = 'debris was scattered all over the yard in the densest region of Denmark'"
      ],
      "metadata": {
        "id": "FAujPAyIG2OT"
      },
      "execution_count": 68,
      "outputs": []
    },
    {
      "cell_type": "code",
      "source": [
        "D_counts = user_string.count('D') + user_string.count('d')\n",
        "print(D_counts)"
      ],
      "metadata": {
        "colab": {
          "base_uri": "https://localhost:8080/"
        },
        "id": "8vO2JO0fIFHM",
        "outputId": "43737f23-6563-45c0-f15f-fd582a2dfb21"
      },
      "execution_count": 69,
      "outputs": [
        {
          "output_type": "stream",
          "name": "stdout",
          "text": [
            "5\n"
          ]
        }
      ]
    },
    {
      "cell_type": "code",
      "source": [
        "print(f\"The total occurrence of D in the user_string is {D_counts}\")"
      ],
      "metadata": {
        "colab": {
          "base_uri": "https://localhost:8080/"
        },
        "id": "QjYYDEDyKDV3",
        "outputId": "7a5e0099-a013-4785-abbf-beec1cd892be"
      },
      "execution_count": 70,
      "outputs": [
        {
          "output_type": "stream",
          "name": "stdout",
          "text": [
            "The total occurrence of D in the user_string is 5\n"
          ]
        }
      ]
    },
    {
      "cell_type": "code",
      "source": [],
      "metadata": {
        "id": "1T2oZJ8EKG-d"
      },
      "execution_count": null,
      "outputs": []
    },
    {
      "cell_type": "markdown",
      "source": [
        "#Problem 5\n",
        "#Check whether a given string is a palindrome. A palindrome is a word, number, phrase, or other sequence of characters which reads the same backward as forward, such as madam, racecar."
      ],
      "metadata": {
        "id": "L1SDGdJcKPRx"
      }
    },
    {
      "cell_type": "code",
      "source": [
        "user_string = input()"
      ],
      "metadata": {
        "colab": {
          "base_uri": "https://localhost:8080/"
        },
        "id": "K_-_guAxKRSA",
        "outputId": "a4274eb6-bdb0-4d90-92d8-dae22e9ef679"
      },
      "execution_count": 81,
      "outputs": [
        {
          "name": "stdout",
          "output_type": "stream",
          "text": [
            "racecar\n"
          ]
        }
      ]
    },
    {
      "cell_type": "code",
      "source": [
        "is_palindrome = user_string == user_string[::-1]\n",
        "print(is_palindrome)"
      ],
      "metadata": {
        "colab": {
          "base_uri": "https://localhost:8080/"
        },
        "id": "xMiZ5ZBFKi41",
        "outputId": "44c4cdee-5a5e-4319-bb82-a9a0daba24e5"
      },
      "execution_count": 82,
      "outputs": [
        {
          "output_type": "stream",
          "name": "stdout",
          "text": [
            "True\n"
          ]
        }
      ]
    },
    {
      "cell_type": "code",
      "source": [
        "print(f'the total occurrence of {user_string} is {is_palindrome}')"
      ],
      "metadata": {
        "colab": {
          "base_uri": "https://localhost:8080/"
        },
        "id": "j2RgGj3xLqF9",
        "outputId": "c2a368bb-a467-4798-f908-c0989ee922b1"
      },
      "execution_count": 83,
      "outputs": [
        {
          "output_type": "stream",
          "name": "stdout",
          "text": [
            "the total occurrence of racecar is True\n"
          ]
        }
      ]
    },
    {
      "cell_type": "code",
      "source": [],
      "metadata": {
        "id": "JI0iuf3sMkwE"
      },
      "execution_count": null,
      "outputs": []
    }
  ]
}